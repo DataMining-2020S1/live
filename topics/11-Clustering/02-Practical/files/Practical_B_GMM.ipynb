{
 "cells": [
  {
   "cell_type": "markdown",
   "id": "13d9c08e",
   "metadata": {},
   "source": [
    "# Investigating K-Means and Gaussian Mixture Models\n",
    "\n",
    "_Motivation: Expectation-Maximization-Gaussian-Mixtures/EM-for-gmm.ipynb_\n",
    "\n",
    "##  Expectation-Maximisation for Gaussian Mixture Models: optimisation "
   ]
  },
  {
   "cell_type": "code",
   "execution_count": null,
   "id": "abbd1a1c",
   "metadata": {},
   "outputs": [],
   "source": [
    "import numpy as np\n",
    "import matplotlib.pyplot as plt \n",
    "import copy\n",
    "from scipy.stats import multivariate_normal\n",
    "\n",
    "import sys\n",
    "import clusSupport as w11s\n",
    "\n",
    "dataDir = \"data\"\n",
    "# Make sure the outputDir subdirectory exists\n",
    "outputDir = \"output/Practical_C_DigitsData\"\n",
    "import os, errno\n",
    "try:\n",
    "    os.makedirs(outputDir)\n",
    "except OSError as e:\n",
    "    if e.errno != errno.EEXIST:\n",
    "        raise\n",
    "\n",
    "%matplotlib inline\n",
    "\n",
    "plot_kwds = {'alpha':0.5, 's':25, 'linewidths':0}"
   ]
  },
  {
   "cell_type": "code",
   "execution_count": null,
   "id": "c008cfbf",
   "metadata": {},
   "outputs": [],
   "source": [
    "# Model parameters\n",
    "init_means = [\n",
    "    [5, 0], # mean of cluster 1\n",
    "    [1, 1], # mean of cluster 2\n",
    "    [0, 5]  # mean of cluster 3\n",
    "]\n",
    "init_covariances = [\n",
    "    [[.5, 0.], [0, .5]], # covariance of cluster 1\n",
    "    [[.92, .38], [.38, .91]], # covariance of cluster 2\n",
    "    [[.5, 0.], [0, .5]]  # covariance of cluster 3\n",
    "]\n",
    "init_weights = [1/4., 1/2., 1/4.]  # weights of each cluster\n",
    "\n",
    "# Generate data\n",
    "np.random.seed(4)\n",
    "X = w11s.generate_MoG_data(100, init_means, init_covariances, init_weights)"
   ]
  },
  {
   "cell_type": "code",
   "execution_count": null,
   "id": "9a159169",
   "metadata": {},
   "outputs": [],
   "source": [
    "x0 = []\n",
    "x1 = []\n",
    "for row in X:\n",
    "    x0.append(row[0])\n",
    "    x1.append(row[1])\n",
    "d = np.array([x0, x1])\n",
    "data = d.T\n",
    "\n",
    "plt.figure()\n",
    "plt.scatter(data.T[0], data.T[1], c='b', **plot_kwds)\n",
    "frame = plt.gca()\n",
    "frame.axes.get_xaxis().set_visible(False)\n",
    "frame.axes.get_yaxis().set_visible(False)\n",
    "plt.savefig(outputDir + '/threeEllipseBlobs.pdf')\n",
    "\n",
    "#plt.figure()\n",
    "#d = np.vstack(data)\n",
    "#plt.plot(d[:,0], d[:,1],'ko')\n",
    "#plt.rcParams.update({'font.size':16})\n",
    "#plt.tight_layout()"
   ]
  },
  {
   "cell_type": "markdown",
   "id": "80381065",
   "metadata": {},
   "source": [
    "We can probably pick out the 3 clusters by eye, although there also appear to be some discordant points so the cluster centres are not obvious."
   ]
  },
  {
   "cell_type": "code",
   "execution_count": null,
   "id": "9ee98bc7",
   "metadata": {},
   "outputs": [],
   "source": [
    "np.random.seed(4)\n",
    "\n",
    "# Initialization of parameters\n",
    "\n",
    "# random choice of 3 indices\n",
    "chosen = np.random.choice(len(data), 3, replace=False)\n",
    "# randomly pick 3 of the data points as initial centres\n",
    "initial_means = [data[x] for x in chosen]\n",
    "# Get 3 copies of the covariance of the overall data\n",
    "initial_covs = [np.cov(data, rowvar=0)] * 3\n",
    "# Get 3 copies of 1/3\n",
    "initial_weights = [1/3.] * 3 "
   ]
  },
  {
   "cell_type": "code",
   "execution_count": null,
   "id": "be850aef",
   "metadata": {},
   "outputs": [],
   "source": [
    "#from scipy.stats import multivariate_normal\n",
    "#import numpy as np\n",
    "#import matplotlib.pyplot as plt\n",
    "#x = np.linspace(0, 5, 10, endpoint=False)\n",
    "#y = multivariate_normal.pdf(x, mean=2, cov=0.5)\n",
    "#plt.plot(x, y)"
   ]
  },
  {
   "cell_type": "code",
   "execution_count": null,
   "id": "50e9f1e1",
   "metadata": {},
   "outputs": [],
   "source": [
    "#from scipy.stats import multivariate_normal\n",
    "#var = multivariate_normal(mean=[0,0], cov=[[1,0],[0,1]])\n",
    "#Z = var.pdf([1,0])\n",
    "#var"
   ]
  },
  {
   "cell_type": "code",
   "execution_count": null,
   "id": "3b25f011",
   "metadata": {},
   "outputs": [],
   "source": [
    "# Parameters after initialization\n",
    "paletteName = 'deep'\n",
    "fontSize = 10\n",
    "w11s.plot_contours(data, initial_means, initial_covs, 'Initial clusters', paletteName, fontSize)\n",
    "plt.savefig(outputDir + '/threeEllipseBlobsInitialClusters.pdf')"
   ]
  },
  {
   "cell_type": "markdown",
   "id": "cf52f968",
   "metadata": {},
   "source": [
    "As you can see, the initial cluster placements are not particularly good, because two of the initial centres belong to one apparent cluster and a whole set of points lies outside the normal range of their nearest centre."
   ]
  },
  {
   "cell_type": "code",
   "execution_count": null,
   "id": "99fb377c",
   "metadata": {},
   "outputs": [],
   "source": [
    "# Parameters after running EM to convergence\n",
    "results = w11s.EM(data, initial_means, initial_covs, initial_weights)\n",
    "finalWeights = results['weights']\n",
    "finalMeans = results['means']\n",
    "finalCovariances = results['covs']\n",
    "print(init_weights)\n",
    "print(finalWeights)\n",
    "print(init_means)\n",
    "print(finalMeans)\n",
    "print(init_covariances)\n",
    "print(finalCovariances)\n",
    "\n",
    "loglikelihoods = results['loglik']\n",
    "w11s.plot_contours(data, results['means'], results['covs'], 'Final clusters', paletteName, fontSize)\n",
    "plt.savefig(outputDir + '/threeEllipseBlobsFinalClusters.pdf')"
   ]
  },
  {
   "cell_type": "markdown",
   "id": "307acc7d",
   "metadata": {},
   "source": [
    "As can be seen, the EM algorithm converges after 22 iterations. At that point, the movement of the centres is negligible and the stopping criterion ensures that the algorithm terminates. We can also see from the plot that the EM algorithm has placed the Gaussians so they are centred on the clusters and the covariance contours indicate how the distributions are aligned with the local data in the cluster."
   ]
  },
  {
   "cell_type": "code",
   "execution_count": null,
   "id": "57c06f96",
   "metadata": {},
   "outputs": [],
   "source": [
    "plt.plot(range(len(loglikelihoods)), loglikelihoods, linewidth=4)\n",
    "plt.xlabel('Iteration')\n",
    "plt.ylabel('Log-likelihood')\n",
    "plt.rcParams.update({'font.size':16})\n",
    "plt.tight_layout()\n",
    "plt.savefig(outputDir + '/threeEllipseBlobsObjectiveConvergence.pdf')"
   ]
  },
  {
   "cell_type": "markdown",
   "id": "9aad4f1f",
   "metadata": {},
   "source": [
    "EM works by minimising the (negative) log likelihood of the data. The plot indicates that the first 3 steps make the most progress, and that subsequent steps just refine the placement until the stopping criterion is met. "
   ]
  },
  {
   "cell_type": "markdown",
   "id": "67c291a3",
   "metadata": {},
   "source": [
    "## Gaussian Mixture Models and stretched data: comparison with K-Means\n",
    "\n",
    "_Motivation: PythonDataScienceHandbook/notebooks/05.12-Gaussian-Mixtures.ipynb_\n",
    "\n",
    "Again, we create some 'blob' data."
   ]
  },
  {
   "cell_type": "code",
   "execution_count": null,
   "id": "bc4b04a3",
   "metadata": {},
   "outputs": [],
   "source": [
    "# Generate some data\n",
    "from sklearn.datasets import make_blobs\n",
    "X, y_true = make_blobs(n_samples=400, centers=4,\n",
    "                       cluster_std=0.60, random_state=0)\n",
    "X = X[:, ::-1] # flip axes for better plotting\n",
    "\n",
    "plt.figure()\n",
    "plt.axis('equal')\n",
    "plt.scatter(X[:, 0], X[:, 1], s=25, alpha=0.3);\n",
    "plt.savefig(outputDir + '/fourEllipseBlobs.pdf')"
   ]
  },
  {
   "cell_type": "code",
   "execution_count": null,
   "id": "6ae3e84c",
   "metadata": {},
   "outputs": [],
   "source": [
    "# Plot the data with K Means Labels\n",
    "plot_kwds = {'alpha' : 0.5, 's' : 40, 'linewidths':0}\n",
    "from sklearn.cluster import KMeans\n",
    "kmeans = KMeans(n_clusters=4, random_state=0)\n",
    "labels = kmeans.fit(X).predict(X)\n",
    "title = \"KMeans fit to 4 blobs\"\n",
    "plt = w11s.plot_2dClusters(X, labels, title, paletteName, fontSize, plot_kwds)\n",
    "plt.savefig(outputDir + '/fourEllipseBlobs_Kmeans.pdf')"
   ]
  },
  {
   "cell_type": "markdown",
   "id": "0af352e9",
   "metadata": {},
   "source": [
    "K-Means appears to do a good job assigning points to (colour-coded) clusters. This is not surprising, because the clusters are globular and relatively well separated. "
   ]
  },
  {
   "cell_type": "code",
   "execution_count": null,
   "id": "db81f9df",
   "metadata": {},
   "outputs": [],
   "source": [
    "w11s.plot_kmeans(kmeans, X)\n",
    "plt.savefig(outputDir + '/fourEllipseBlobsKMeansWithDisks.pdf')\n",
    "#from scipy.spatial.distance import cdist\n",
    "#centres = kmeans.cluster_centers_\n",
    "#radii = [cdist(X[labels == i], [centre]).max()\n",
    "#         for i, centre in enumerate(centres)]\n",
    "\n",
    "#fc='#CCCCCC'\n",
    "#plt = w11s.overlayDisks(plt, centres, radii, fc, plot_kwds)"
   ]
  },
  {
   "cell_type": "markdown",
   "id": "cf37b72b",
   "metadata": {},
   "source": [
    "The K-means regions are circular and hence a good fit with the data. However, data for clustering does not always have this nice property. We take the data and \"stretch\" it by multiplying by a random matrix, which changes the shape of the clusters as seen below."
   ]
  },
  {
   "cell_type": "code",
   "execution_count": null,
   "id": "1184504e",
   "metadata": {},
   "outputs": [],
   "source": [
    "rng = np.random.RandomState(13)\n",
    "X_stretched = np.dot(X, rng.randn(2, 2))\n",
    "plt.scatter(X_stretched[:, 0], X_stretched[:, 1], s=25, alpha=0.3);\n",
    "plt.savefig(outputDir + '/fourEllipseBlobsStretched.pdf')"
   ]
  },
  {
   "cell_type": "markdown",
   "id": "aafd79c3",
   "metadata": {},
   "source": [
    "We add the K-means circular regions to see how K-means decides on cluster membership."
   ]
  },
  {
   "cell_type": "code",
   "execution_count": null,
   "id": "7e6ae67a",
   "metadata": {},
   "outputs": [],
   "source": [
    "kmeans = KMeans(n_clusters=4, random_state=0)\n",
    "w11s.plot_kmeans(kmeans, X_stretched)\n",
    "plt.savefig(outputDir + '/fourEllipseBlobsStretchedKMeansWithDisks.pdf')"
   ]
  },
  {
   "cell_type": "markdown",
   "id": "37603285",
   "metadata": {},
   "source": [
    "K-means still does a good job separting the blue and green clusters, but has difficulty distinguishing between the yellow and purple ones. The circular regions are not a great choice here."
   ]
  },
  {
   "cell_type": "code",
   "execution_count": null,
   "id": "15b72c71",
   "metadata": {},
   "outputs": [],
   "source": [
    "from sklearn.mixture import GaussianMixture\n",
    "gmm = GaussianMixture(n_components=4).fit(X)\n",
    "labels = gmm.predict(X)\n",
    "plt.scatter(X[:, 0], X[:, 1], c=labels, s=40, cmap='viridis');\n",
    "plt.savefig(outputDir + '/fourEllipseBlobsStretchedGMM.pdf')"
   ]
  },
  {
   "cell_type": "markdown",
   "id": "c77d6e00",
   "metadata": {},
   "source": [
    "The Gaussian Mixture Model attempts to place Gaussian distributions so that each is centred on a cluster. Indeed each point is assigned a probability of belonging to each of the Gaussians in the mixture. For many of the points, cluster membership is simple to determine, but the first of the points below could belong to either cluster 1 or cluster 2, but probably to cluster 1, because it has a higher probability of membership with that cluster."
   ]
  },
  {
   "cell_type": "code",
   "execution_count": null,
   "id": "43765164",
   "metadata": {},
   "outputs": [],
   "source": [
    "probs = gmm.predict_proba(X)\n",
    "print(probs[:5].round(3))"
   ]
  },
  {
   "cell_type": "markdown",
   "id": "50c0618f",
   "metadata": {},
   "source": [
    "If we make the size of the points depend on the cluster membership probability, we can see from the plot below that there are two points at about (2.8,0) and (6.5,0) that have been assigned to the purple cluster rather than either the yellow or the blue cluster, respectively."
   ]
  },
  {
   "cell_type": "code",
   "execution_count": null,
   "id": "7579770c",
   "metadata": {},
   "outputs": [],
   "source": [
    "size = 50 * probs.max(1) ** 2  # square emphasizes differences\n",
    "plt.scatter(X[:, 0], X[:, 1], c=labels, cmap='viridis', s=size);\n",
    "plt.savefig(outputDir + '/fourEllipseBlobsGMMProbSize.pdf')"
   ]
  },
  {
   "cell_type": "markdown",
   "id": "dd26bb5c",
   "metadata": {},
   "source": [
    "By analogy with the K-Means \"fit\", we can also indicate the Gaussian Mixture regions, see below. Because of sampling reasons, the regions are not quite circular, although they are close."
   ]
  },
  {
   "cell_type": "code",
   "execution_count": null,
   "id": "c23e1d8a",
   "metadata": {},
   "outputs": [],
   "source": [
    "gmm = GaussianMixture(n_components=4, random_state=42)\n",
    "w11s.plot_gmm(gmm, X)\n",
    "plt.savefig(outputDir + '/fourEllipseBlobsGMMwithDisks.pdf')"
   ]
  },
  {
   "cell_type": "markdown",
   "id": "a98b0d7e",
   "metadata": {},
   "source": [
    "We can apply the Gaussian Mixture model to stretched data and it handles it readily, because of the greater flexibility in defining the shape of its regions, see below:"
   ]
  },
  {
   "cell_type": "code",
   "execution_count": null,
   "id": "5780e835",
   "metadata": {
    "lines_to_next_cell": 2
   },
   "outputs": [],
   "source": [
    "gmm = GaussianMixture(n_components=4, covariance_type='full', random_state=42)\n",
    "w11s.plot_gmm(gmm, X_stretched)\n",
    "plt.savefig(outputDir + '/fourEllipseBlobsStretchedGMMwithDisks.pdf')"
   ]
  },
  {
   "cell_type": "code",
   "execution_count": null,
   "id": "5528162d",
   "metadata": {},
   "outputs": [],
   "source": []
  }
 ],
 "metadata": {
  "jupytext": {
   "formats": "ipynb,py:percent"
  },
  "kernelspec": {
   "display_name": "Python 3",
   "language": "python",
   "name": "python3"
  },
  "language_info": {
   "codemirror_mode": {
    "name": "ipython",
    "version": 3
   },
   "file_extension": ".py",
   "mimetype": "text/x-python",
   "name": "python",
   "nbconvert_exporter": "python",
   "pygments_lexer": "ipython3",
   "version": "3.8.10"
  }
 },
 "nbformat": 4,
 "nbformat_minor": 5
}
