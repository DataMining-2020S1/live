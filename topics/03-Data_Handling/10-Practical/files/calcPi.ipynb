{
 "cells": [
  {
   "cell_type": "code",
   "execution_count": null,
   "id": "8f3e9ef7",
   "metadata": {},
   "outputs": [],
   "source": [
    "import findspark\n",
    "findspark.init()"
   ]
  },
  {
   "cell_type": "code",
   "execution_count": null,
   "id": "b6e1557f",
   "metadata": {},
   "outputs": [],
   "source": [
    "import pyspark\n",
    "import random"
   ]
  },
  {
   "cell_type": "code",
   "execution_count": null,
   "id": "0fe6f04a",
   "metadata": {
    "lines_to_next_cell": 1
   },
   "outputs": [],
   "source": [
    "sc = pyspark.SparkContext(appName=\"Pi\")\n",
    "num_samples = 100000000"
   ]
  },
  {
   "cell_type": "markdown",
   "id": "c65d5e98-a2e2-4250-b594-af28719ba1ed",
   "metadata": {
    "lines_to_next_cell": 1
   },
   "source": [
    "Use Monte Carlo (sampling) technique to return 1 if a random point in the first quadrant is inside the unit circle."
   ]
  },
  {
   "cell_type": "code",
   "execution_count": null,
   "id": "321ae994-adbf-490d-a14a-4f1d8445b884",
   "metadata": {},
   "outputs": [],
   "source": [
    "def inside(p):     \n",
    "  x, y = random.random(), random.random()\n",
    "  return x*x + y*y < 1"
   ]
  },
  {
   "cell_type": "markdown",
   "id": "e9e4c218-0ce8-4b8f-9143-daee8fa88328",
   "metadata": {},
   "source": [
    "Looping from 0 to num_samples, count the number of times where a random point in the first quadrant is inside the unit circle"
   ]
  },
  {
   "cell_type": "code",
   "execution_count": null,
   "id": "9ea2f03e-145f-4e6e-b737-9d19ebe52f3f",
   "metadata": {},
   "outputs": [],
   "source": [
    "count = sc.parallelize(range(0, num_samples)).filter(inside).count()"
   ]
  },
  {
   "cell_type": "markdown",
   "id": "3224df8a-3da6-4aef-98b3-4f2c84b46e74",
   "metadata": {},
   "source": [
    "Now Compute the ratio and multiply by 4 to cover all 4 quadrants"
   ]
  },
  {
   "cell_type": "code",
   "execution_count": null,
   "id": "577f9733-c351-412d-ae4d-24503c62ce3c",
   "metadata": {},
   "outputs": [],
   "source": [
    "pi = 4 * count / num_samples\n",
    "print(pi)"
   ]
  },
  {
   "cell_type": "code",
   "execution_count": null,
   "id": "f39a1b19",
   "metadata": {},
   "outputs": [],
   "source": [
    "sc.stop()"
   ]
  },
  {
   "cell_type": "code",
   "execution_count": null,
   "id": "e933321b",
   "metadata": {},
   "outputs": [],
   "source": []
  }
 ],
 "metadata": {
  "kernelspec": {
   "display_name": "Python 3 (ipykernel)",
   "language": "python",
   "name": "python3"
  },
  "language_info": {
   "codemirror_mode": {
    "name": "ipython",
    "version": 3
   },
   "file_extension": ".py",
   "mimetype": "text/x-python",
   "name": "python",
   "nbconvert_exporter": "python",
   "pygments_lexer": "ipython3",
   "version": "3.8.11"
  }
 },
 "nbformat": 4,
 "nbformat_minor": 5
}
