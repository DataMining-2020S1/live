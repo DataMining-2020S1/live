{
 "cells": [
  {
   "cell_type": "code",
   "execution_count": null,
   "id": "95d39616",
   "metadata": {},
   "outputs": [],
   "source": [
    "from pyspark.ml.feature import SQLTransformer\n",
    "from pyspark.sql import SparkSession"
   ]
  },
  {
   "cell_type": "markdown",
   "id": "a3a02e27",
   "metadata": {},
   "source": [
    "Having imported the relevant classes from pyspark, we are now ready to get or create a SparkSession named \"SQLTransformerExample\" that is available for us to run Spark jobs."
   ]
  },
  {
   "cell_type": "code",
   "execution_count": null,
   "id": "f0e6e7be",
   "metadata": {},
   "outputs": [],
   "source": [
    "spark = SparkSession\\\n",
    "        .builder\\\n",
    "        .appName(\"SQLTransformerExample\")\\\n",
    "        .getOrCreate()"
   ]
  },
  {
   "cell_type": "markdown",
   "id": "44511772",
   "metadata": {},
   "source": [
    "Using the resources in that SparkSession, we create a _Spark_ dataframe that we populate with some numbers. Note that the fields in that dataframe are named `id`, `vi` and `v2`."
   ]
  },
  {
   "cell_type": "code",
   "execution_count": null,
   "id": "ad9c3ec0",
   "metadata": {},
   "outputs": [],
   "source": [
    "sparkDf = spark.createDataFrame([\n",
    "        (0, 1.0, 3.0),\n",
    "        (2, 2.0, 5.0)\n",
    "    ], [\"id\", \"v1\", \"v2\"])"
   ]
  },
  {
   "cell_type": "markdown",
   "id": "7b5749b1",
   "metadata": {},
   "source": [
    "We inspect the resulting `sparkDf` dataframe, to make sure it looks like what we want."
   ]
  },
  {
   "cell_type": "code",
   "execution_count": null,
   "id": "c743e434",
   "metadata": {},
   "outputs": [],
   "source": [
    "sparkDf.show()"
   ]
  },
  {
   "cell_type": "markdown",
   "id": "4d16b840",
   "metadata": {},
   "source": [
    "Now we define a simple Transformation specified in the SQL statement: adding 2 computed columns v3 and v4."
   ]
  },
  {
   "cell_type": "code",
   "execution_count": null,
   "id": "98ced779",
   "metadata": {},
   "outputs": [],
   "source": [
    "sqlTrans = SQLTransformer(\n",
    "        statement=\"SELECT *, (v1 + v2) AS v3, (v1 * v2) AS v4 FROM __THIS__\")"
   ]
  },
  {
   "cell_type": "markdown",
   "id": "5a4f8057",
   "metadata": {},
   "source": [
    "Now we can apply this SQL transformation to `sparkDf`, which replaces the placeholder `__THIS__` in `sqlTrans` above."
   ]
  },
  {
   "cell_type": "code",
   "execution_count": null,
   "id": "939792ad",
   "metadata": {},
   "outputs": [],
   "source": [
    "sparkDf2 = sqlTrans.transform(sparkDf)\n",
    "sparkDf2.show()"
   ]
  },
  {
   "cell_type": "markdown",
   "id": "aef2aa8a",
   "metadata": {},
   "source": [
    "We can convert the Spark dataframe (which lives in HDFS) to an in-memory pandas dataframe as follows"
   ]
  },
  {
   "cell_type": "code",
   "execution_count": null,
   "id": "ba57626b",
   "metadata": {},
   "outputs": [],
   "source": [
    "pandasDf = sparkDf2.select(\"*\").toPandas()\n",
    "pandasDf"
   ]
  },
  {
   "cell_type": "markdown",
   "id": "629c6f15",
   "metadata": {},
   "source": [
    "Now we can modify that pandas dataframe, using typical pandas operations, adding a new column to the dataframe. We can view the output just to check that the `v5` column has been added."
   ]
  },
  {
   "cell_type": "code",
   "execution_count": null,
   "id": "a69e4186",
   "metadata": {},
   "outputs": [],
   "source": [
    "import pandas as pd\n",
    "pandasDf['v5'] = pandasDf['v4'] - pandasDf['v3']\n",
    "pandasDf"
   ]
  },
  {
   "cell_type": "markdown",
   "id": "c261b1b9",
   "metadata": {},
   "source": [
    "We can convert pandasDf to a Spark dataframe, writing it to HDFS in the process..."
   ]
  },
  {
   "cell_type": "code",
   "execution_count": null,
   "id": "bb3b2110",
   "metadata": {},
   "outputs": [],
   "source": [
    "sparkDf3 = spark.createDataFrame(pandasDf)\n",
    "sparkDf3.show()"
   ]
  },
  {
   "cell_type": "markdown",
   "id": "7728cd42",
   "metadata": {},
   "source": [
    "\n",
    "We now stop that SparkContext, releasing its resources back into the pool."
   ]
  },
  {
   "cell_type": "code",
   "execution_count": null,
   "id": "7dc7f887",
   "metadata": {},
   "outputs": [],
   "source": [
    "spark.stop()"
   ]
  },
  {
   "cell_type": "code",
   "execution_count": null,
   "id": "f0cd5998",
   "metadata": {},
   "outputs": [],
   "source": []
  }
 ],
 "metadata": {
  "jupytext": {
   "formats": "ipynb,py:percent"
  },
  "kernelspec": {
   "display_name": "Python 3",
   "language": "python",
   "name": "python3"
  }
 },
 "nbformat": 4,
 "nbformat_minor": 5
}
