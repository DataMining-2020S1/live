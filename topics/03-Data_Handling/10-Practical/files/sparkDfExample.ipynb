{
 "cells": [
  {
   "cell_type": "code",
   "execution_count": 1,
   "id": "95d39616",
   "metadata": {},
   "outputs": [],
   "source": [
    "from pyspark.ml.feature import SQLTransformer\n",
    "from pyspark.sql import SparkSession"
   ]
  },
  {
   "cell_type": "markdown",
   "id": "a3a02e27",
   "metadata": {},
   "source": [
    "Having imported the relevant classes from pyspark, we are now ready to get or create a SparkSession named \"SQLTransformerExample\" that is available for us to run Spark jobs."
   ]
  },
  {
   "cell_type": "code",
   "execution_count": 2,
   "id": "f0e6e7be",
   "metadata": {},
   "outputs": [
    {
     "name": "stderr",
     "output_type": "stream",
     "text": [
      "21/09/28 17:58:31 WARN NativeCodeLoader: Unable to load native-hadoop library for your platform... using builtin-java classes where applicable\n",
      "Using Spark's default log4j profile: org/apache/spark/log4j-defaults.properties\n",
      "Setting default log level to \"WARN\".\n",
      "To adjust logging level use sc.setLogLevel(newLevel). For SparkR, use setLogLevel(newLevel).\n"
     ]
    }
   ],
   "source": [
    "spark = SparkSession\\\n",
    "        .builder\\\n",
    "        .appName(\"SQLTransformerExample\")\\\n",
    "        .getOrCreate()"
   ]
  },
  {
   "cell_type": "markdown",
   "id": "44511772",
   "metadata": {},
   "source": [
    "Using the resources in that SparkSession, we create a _Spark_ dataframe that we populate with some numbers. Note that the fields in that dataframe are named `id`, `vi` and `v2`."
   ]
  },
  {
   "cell_type": "code",
   "execution_count": 3,
   "id": "ad9c3ec0",
   "metadata": {},
   "outputs": [],
   "source": [
    "sparkDf = spark.createDataFrame([\n",
    "        (0, 1.0, 3.0),\n",
    "        (2, 2.0, 5.0)\n",
    "    ], [\"id\", \"v1\", \"v2\"])"
   ]
  },
  {
   "cell_type": "markdown",
   "id": "7b5749b1",
   "metadata": {},
   "source": [
    "We inspect the resulting `sparkDf` dataframe, to make sure it looks like what we want."
   ]
  },
  {
   "cell_type": "code",
   "execution_count": 4,
   "id": "c743e434",
   "metadata": {},
   "outputs": [
    {
     "name": "stderr",
     "output_type": "stream",
     "text": [
      "                                                                                \r"
     ]
    },
    {
     "name": "stdout",
     "output_type": "stream",
     "text": [
      "+---+---+---+\n",
      "| id| v1| v2|\n",
      "+---+---+---+\n",
      "|  0|1.0|3.0|\n",
      "|  2|2.0|5.0|\n",
      "+---+---+---+\n",
      "\n"
     ]
    }
   ],
   "source": [
    "sparkDf.show()"
   ]
  },
  {
   "cell_type": "markdown",
   "id": "4d16b840",
   "metadata": {},
   "source": [
    "Now we define a simple Transformation specified in the SQL statement: adding 2 computed columns v3 and v4."
   ]
  },
  {
   "cell_type": "code",
   "execution_count": 5,
   "id": "98ced779",
   "metadata": {},
   "outputs": [],
   "source": [
    "sqlTrans = SQLTransformer(\n",
    "        statement=\"SELECT *, (v1 + v2) AS v3, (v1 * v2) AS v4 FROM __THIS__\")"
   ]
  },
  {
   "cell_type": "markdown",
   "id": "5a4f8057",
   "metadata": {},
   "source": [
    "Now we can apply this SQL transformation to `sparkDf`, which replaces the placeholder `__THIS__` in `sqlTrans` above."
   ]
  },
  {
   "cell_type": "code",
   "execution_count": 6,
   "id": "939792ad",
   "metadata": {},
   "outputs": [
    {
     "name": "stdout",
     "output_type": "stream",
     "text": [
      "+---+---+---+---+----+\n",
      "| id| v1| v2| v3|  v4|\n",
      "+---+---+---+---+----+\n",
      "|  0|1.0|3.0|4.0| 3.0|\n",
      "|  2|2.0|5.0|7.0|10.0|\n",
      "+---+---+---+---+----+\n",
      "\n"
     ]
    }
   ],
   "source": [
    "sparkDf2 = sqlTrans.transform(sparkDf)\n",
    "sparkDf2.show()"
   ]
  },
  {
   "cell_type": "markdown",
   "id": "aef2aa8a",
   "metadata": {},
   "source": [
    "We can convert the Spark dataframe (which lives in HDFS) to an in-memory pandas dataframe as follows"
   ]
  },
  {
   "cell_type": "code",
   "execution_count": 7,
   "id": "ba57626b",
   "metadata": {},
   "outputs": [
    {
     "data": {
      "text/html": [
       "<div>\n",
       "<style scoped>\n",
       "    .dataframe tbody tr th:only-of-type {\n",
       "        vertical-align: middle;\n",
       "    }\n",
       "\n",
       "    .dataframe tbody tr th {\n",
       "        vertical-align: top;\n",
       "    }\n",
       "\n",
       "    .dataframe thead th {\n",
       "        text-align: right;\n",
       "    }\n",
       "</style>\n",
       "<table border=\"1\" class=\"dataframe\">\n",
       "  <thead>\n",
       "    <tr style=\"text-align: right;\">\n",
       "      <th></th>\n",
       "      <th>id</th>\n",
       "      <th>v1</th>\n",
       "      <th>v2</th>\n",
       "      <th>v3</th>\n",
       "      <th>v4</th>\n",
       "    </tr>\n",
       "  </thead>\n",
       "  <tbody>\n",
       "    <tr>\n",
       "      <th>0</th>\n",
       "      <td>0</td>\n",
       "      <td>1.0</td>\n",
       "      <td>3.0</td>\n",
       "      <td>4.0</td>\n",
       "      <td>3.0</td>\n",
       "    </tr>\n",
       "    <tr>\n",
       "      <th>1</th>\n",
       "      <td>2</td>\n",
       "      <td>2.0</td>\n",
       "      <td>5.0</td>\n",
       "      <td>7.0</td>\n",
       "      <td>10.0</td>\n",
       "    </tr>\n",
       "  </tbody>\n",
       "</table>\n",
       "</div>"
      ],
      "text/plain": [
       "   id   v1   v2   v3    v4\n",
       "0   0  1.0  3.0  4.0   3.0\n",
       "1   2  2.0  5.0  7.0  10.0"
      ]
     },
     "execution_count": 7,
     "metadata": {},
     "output_type": "execute_result"
    }
   ],
   "source": [
    "pandasDf = sparkDf2.select(\"*\").toPandas()\n",
    "pandasDf"
   ]
  },
  {
   "cell_type": "markdown",
   "id": "629c6f15",
   "metadata": {},
   "source": [
    "Now we can modify that pandas dataframe, using typical pandas operations, adding a new column to the dataframe. We can view the output just to check that the `v5` column has been added."
   ]
  },
  {
   "cell_type": "code",
   "execution_count": 8,
   "id": "a69e4186",
   "metadata": {},
   "outputs": [
    {
     "data": {
      "text/html": [
       "<div>\n",
       "<style scoped>\n",
       "    .dataframe tbody tr th:only-of-type {\n",
       "        vertical-align: middle;\n",
       "    }\n",
       "\n",
       "    .dataframe tbody tr th {\n",
       "        vertical-align: top;\n",
       "    }\n",
       "\n",
       "    .dataframe thead th {\n",
       "        text-align: right;\n",
       "    }\n",
       "</style>\n",
       "<table border=\"1\" class=\"dataframe\">\n",
       "  <thead>\n",
       "    <tr style=\"text-align: right;\">\n",
       "      <th></th>\n",
       "      <th>id</th>\n",
       "      <th>v1</th>\n",
       "      <th>v2</th>\n",
       "      <th>v3</th>\n",
       "      <th>v4</th>\n",
       "      <th>v5</th>\n",
       "    </tr>\n",
       "  </thead>\n",
       "  <tbody>\n",
       "    <tr>\n",
       "      <th>0</th>\n",
       "      <td>0</td>\n",
       "      <td>1.0</td>\n",
       "      <td>3.0</td>\n",
       "      <td>4.0</td>\n",
       "      <td>3.0</td>\n",
       "      <td>-1.0</td>\n",
       "    </tr>\n",
       "    <tr>\n",
       "      <th>1</th>\n",
       "      <td>2</td>\n",
       "      <td>2.0</td>\n",
       "      <td>5.0</td>\n",
       "      <td>7.0</td>\n",
       "      <td>10.0</td>\n",
       "      <td>3.0</td>\n",
       "    </tr>\n",
       "  </tbody>\n",
       "</table>\n",
       "</div>"
      ],
      "text/plain": [
       "   id   v1   v2   v3    v4   v5\n",
       "0   0  1.0  3.0  4.0   3.0 -1.0\n",
       "1   2  2.0  5.0  7.0  10.0  3.0"
      ]
     },
     "execution_count": 8,
     "metadata": {},
     "output_type": "execute_result"
    }
   ],
   "source": [
    "import pandas as pd\n",
    "pandasDf['v5'] = pandasDf['v4'] - pandasDf['v3']\n",
    "pandasDf"
   ]
  },
  {
   "cell_type": "markdown",
   "id": "c261b1b9",
   "metadata": {},
   "source": [
    "We can convert pandasDf to a Spark dataframe, writing it to HDFS in the process..."
   ]
  },
  {
   "cell_type": "code",
   "execution_count": 9,
   "id": "bb3b2110",
   "metadata": {},
   "outputs": [
    {
     "name": "stdout",
     "output_type": "stream",
     "text": [
      "+---+---+---+---+----+----+\n",
      "| id| v1| v2| v3|  v4|  v5|\n",
      "+---+---+---+---+----+----+\n",
      "|  0|1.0|3.0|4.0| 3.0|-1.0|\n",
      "|  2|2.0|5.0|7.0|10.0| 3.0|\n",
      "+---+---+---+---+----+----+\n",
      "\n"
     ]
    }
   ],
   "source": [
    "sparkDf3 = spark.createDataFrame(pandasDf)\n",
    "sparkDf3.show()"
   ]
  },
  {
   "cell_type": "markdown",
   "id": "7728cd42",
   "metadata": {},
   "source": [
    "\n",
    "We now stop that SparkContext, releasing its resources back into the pool."
   ]
  },
  {
   "cell_type": "code",
   "execution_count": 10,
   "id": "7dc7f887",
   "metadata": {},
   "outputs": [],
   "source": [
    "spark.stop()"
   ]
  },
  {
   "cell_type": "code",
   "execution_count": null,
   "id": "f0cd5998",
   "metadata": {},
   "outputs": [],
   "source": []
  }
 ],
 "metadata": {
  "jupytext": {
   "formats": "ipynb,py:percent"
  },
  "kernelspec": {
   "display_name": "Python 3 (ipykernel)",
   "language": "python",
   "name": "python3"
  },
  "language_info": {
   "codemirror_mode": {
    "name": "ipython",
    "version": 3
   },
   "file_extension": ".py",
   "mimetype": "text/x-python",
   "name": "python",
   "nbconvert_exporter": "python",
   "pygments_lexer": "ipython3",
   "version": "3.8.11"
  }
 },
 "nbformat": 4,
 "nbformat_minor": 5
}
