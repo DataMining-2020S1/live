{
 "cells": [
  {
   "cell_type": "markdown",
   "id": "ce33990a-6513-4ea3-b9dd-f8d33eee5ec4",
   "metadata": {},
   "source": [
    "Find out where the pyspark runs"
   ]
  },
  {
   "cell_type": "code",
   "execution_count": null,
   "id": "e1d396d9-1aae-4c04-85c7-0eadb163c7b8",
   "metadata": {},
   "outputs": [],
   "source": [
    "import findspark\n",
    "findspark.init()"
   ]
  },
  {
   "cell_type": "markdown",
   "id": "0e11f4be-548c-4c81-86df-84575ea6b8fe",
   "metadata": {},
   "source": [
    "Creating Spark Context"
   ]
  },
  {
   "cell_type": "code",
   "execution_count": null,
   "id": "af6dc02f-077b-4021-99a4-94328b256de6",
   "metadata": {},
   "outputs": [],
   "source": [
    "from pyspark import SparkContext\n",
    "sc = SparkContext(\"local\", \"wordCount\")"
   ]
  },
  {
   "cell_type": "markdown",
   "id": "deeee670-4e16-4863-ae31-cc8357fbb7d1",
   "metadata": {},
   "source": [
    "Calculating word count"
   ]
  },
  {
   "cell_type": "code",
   "execution_count": null,
   "id": "217b8632-a96a-4220-b7c3-e6df9de0eccc",
   "metadata": {},
   "outputs": [],
   "source": [
    "text_file = sc.textFile(\"data/exampleText.txt\")\n",
    "counts = text_file.flatMap(lambda line: line.split(\" \")) \\\n",
    "             .map(lambda word: (word, 1)) \\\n",
    "             .reduceByKey(lambda a, b: a + b)\n",
    "output = counts.collect()"
   ]
  },
  {
   "cell_type": "markdown",
   "id": "aac47632-fb1e-48d2-be3f-f2543b273fd1",
   "metadata": {},
   "source": [
    "Print the word counts"
   ]
  },
  {
   "cell_type": "code",
   "execution_count": null,
   "id": "f9a0f0c6-b014-4be1-8420-430a485d1d34",
   "metadata": {},
   "outputs": [],
   "source": [
    "for (word, count) in output:\n",
    "    print(\"%s: %i\" % (word, count))"
   ]
  },
  {
   "cell_type": "markdown",
   "id": "af77432c-e5c6-4b1e-9e9a-9640d5338c23",
   "metadata": {},
   "source": [
    "Release the spark context"
   ]
  },
  {
   "cell_type": "code",
   "execution_count": null,
   "id": "60a863c0",
   "metadata": {},
   "outputs": [],
   "source": [
    "sc.stop()"
   ]
  },
  {
   "cell_type": "code",
   "execution_count": null,
   "id": "52faadfc-153d-498b-8b8a-3d4897e75aa6",
   "metadata": {},
   "outputs": [],
   "source": []
  }
 ],
 "metadata": {
  "kernelspec": {
   "display_name": "Python 3 (ipykernel)",
   "language": "python",
   "name": "python3"
  },
  "language_info": {
   "codemirror_mode": {
    "name": "ipython",
    "version": 3
   },
   "file_extension": ".py",
   "mimetype": "text/x-python",
   "name": "python",
   "nbconvert_exporter": "python",
   "pygments_lexer": "ipython3",
   "version": "3.8.11"
  }
 },
 "nbformat": 4,
 "nbformat_minor": 5
}
