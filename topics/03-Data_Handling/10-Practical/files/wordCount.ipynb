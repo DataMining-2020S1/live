{
 "cells": [
  {
   "cell_type": "code",
   "execution_count": null,
   "id": "2c959c4b",
   "metadata": {},
   "outputs": [],
   "source": [
    "# Find out where the pyspark runs\n",
    "import findspark\n",
    "findspark.init()"
   ]
  },
  {
   "cell_type": "code",
   "execution_count": null,
   "id": "d1416566",
   "metadata": {},
   "outputs": [],
   "source": [
    "# Creating Spark Context\n",
    "from pyspark import SparkContext\n",
    "sc = SparkContext(\"local\", \"first app\")"
   ]
  },
  {
   "cell_type": "code",
   "execution_count": null,
   "id": "687ddc13",
   "metadata": {},
   "outputs": [],
   "source": [
    "# Calculating word count\n",
    "text_file = sc.textFile(\"data/exampleText.txt\")\n",
    "counts = text_file.flatMap(lambda line: line.split(\" \")) \\\n",
    "             .map(lambda word: (word, 1)) \\\n",
    "             .reduceByKey(lambda a, b: a + b)\n",
    "output = counts.collect()"
   ]
  },
  {
   "cell_type": "code",
   "execution_count": null,
   "id": "08af5e12",
   "metadata": {},
   "outputs": [],
   "source": [
    "# Print the word counts\n",
    "for (word, count) in output:\n",
    "    print(\"%s: %i\" % (word, count))"
   ]
  },
  {
   "cell_type": "code",
   "execution_count": null,
   "id": "854313f2",
   "metadata": {},
   "outputs": [],
   "source": [
    "# Release the spark context\n",
    "sc.stop()"
   ]
  },
  {
   "cell_type": "code",
   "execution_count": null,
   "id": "60a863c0",
   "metadata": {},
   "outputs": [],
   "source": []
  }
 ],
 "metadata": {
  "kernelspec": {
   "display_name": "Python 3 (ipykernel)",
   "language": "python",
   "name": "python3"
  }
 },
 "nbformat": 4,
 "nbformat_minor": 5
}
